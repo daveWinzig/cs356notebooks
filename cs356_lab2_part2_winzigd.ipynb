{
 "cells": [
  {
   "cell_type": "markdown",
   "metadata": {},
   "source": [
    "# 2. MNIST Without ResNet"
   ]
  },
  {
   "cell_type": "code",
   "execution_count": 2,
   "metadata": {},
   "outputs": [],
   "source": [
    "#import boilerplate\n",
    "!pip install -Uqq fastbook\n",
    "import fastbook\n",
    "fastbook.setup_book()\n",
    "from fastai.vision.all import *"
   ]
  },
  {
   "cell_type": "code",
   "execution_count": 3,
   "metadata": {},
   "outputs": [],
   "source": [
    "#MNIST dataset\n",
    "path = untar_data(URLs.MNIST)"
   ]
  },
  {
   "cell_type": "code",
   "execution_count": 64,
   "metadata": {},
   "outputs": [
    {
     "data": {
      "text/plain": [
       "(#2) [Path('C:/Users/heybl/.fastai/data/mnist_png/testing'),Path('C:/Users/heybl/.fastai/data/mnist_png/training')]"
      ]
     },
     "execution_count": 64,
     "metadata": {},
     "output_type": "execute_result"
    }
   ],
   "source": [
    "#list folder structure\n",
    "path.ls()"
   ]
  },
  {
   "cell_type": "code",
   "execution_count": 4,
   "metadata": {},
   "outputs": [],
   "source": [
    "#setup training dir\n",
    "train_path = path/'training'\n",
    "#setup testing dir\n",
    "test_path = path/'testing'\n"
   ]
  },
  {
   "cell_type": "code",
   "execution_count": 5,
   "metadata": {},
   "outputs": [
    {
     "data": {
      "text/plain": [
       "'0'"
      ]
     },
     "execution_count": 5,
     "metadata": {},
     "output_type": "execute_result"
    }
   ],
   "source": [
    "#parent folder label scheme\n",
    "fname = (train_path/'0').ls()[0]\n",
    "fname.parent.name"
   ]
  },
  {
   "cell_type": "code",
   "execution_count": 6,
   "metadata": {},
   "outputs": [
    {
     "data": {
      "text/plain": [
       "(torch.Size([60000, 784]), torch.Size([60000, 1]))"
      ]
     },
     "execution_count": 6,
     "metadata": {},
     "output_type": "execute_result"
    }
   ],
   "source": [
    "#build training data set\n",
    "\n",
    "#get training images from training directory\n",
    "train_images = get_image_files(train_path)\n",
    "#open images into a list of tensors n * 28 * 28\n",
    "train_item_list = [tensor(Image.open(img)).cuda() for img in train_images]\n",
    "#use parent folder name to create a list of labels\n",
    "train_labels_list = [int(img.parent.name) for img in train_images]\n",
    "#stack into a n x 784 tensor, convert to floats, normalize be dividing by 255\n",
    "train_items = (torch.stack(train_item_list).float()/255).view(-1, 28 * 28)\n",
    "#label list to 1 dim tensor\n",
    "train_labels = tensor(train_labels_list).cuda().view(-1,1)\n",
    "train_items.shape, train_labels.shape\n"
   ]
  },
  {
   "cell_type": "code",
   "execution_count": 7,
   "metadata": {},
   "outputs": [],
   "source": [
    "#zip into a training \"dataset\"\n",
    "train_data = list(zip(train_items, train_labels))"
   ]
  },
  {
   "cell_type": "code",
   "execution_count": 11,
   "metadata": {},
   "outputs": [
    {
     "data": {
      "text/plain": [
       "(torch.Size([10000, 784]), torch.Size([10000, 1]))"
      ]
     },
     "execution_count": 11,
     "metadata": {},
     "output_type": "execute_result"
    }
   ],
   "source": [
    "#build testing data set\n",
    "\n",
    "#get training images from training directory\n",
    "test_images = get_image_files(test_path)\n",
    "#open images into a list of tensors n * 28 * 28\n",
    "test_item_list = [tensor(Image.open(img)).cuda() for img in test_images]\n",
    "#use parent folder name to create a list of labels\n",
    "test_labels_list = [int(img.parent.name) for img in test_images]\n",
    "#stack into a n x 784 tensor, convert to floats, normalize be dividing by 255\n",
    "test_items = (torch.stack(test_item_list).float()/255).view(-1, 28 * 28)\n",
    "#label list to 1 dim tensor\n",
    "test_labels = tensor(test_labels_list).cuda().view(-1,1)\n",
    "test_items.shape, test_labels.shape"
   ]
  },
  {
   "cell_type": "code",
   "execution_count": 12,
   "metadata": {},
   "outputs": [],
   "source": [
    "#zip into a testing \"dataset\"\n",
    "test_data = list(zip(test_items, test_labels))"
   ]
  },
  {
   "cell_type": "code",
   "execution_count": 13,
   "metadata": {},
   "outputs": [],
   "source": [
    "#use dataloader\n",
    "train_dl = DataLoader(train_data, batch_size=256)\n",
    "test_dl = DataLoader(test_data, batch_size=256)"
   ]
  },
  {
   "cell_type": "code",
   "execution_count": 14,
   "metadata": {},
   "outputs": [
    {
     "name": "stdout",
     "output_type": "stream",
     "text": [
      "Due to IPython and Windows limitation, python multiprocessing isn't available now.\n",
      "So `number_workers` is changed to 0 to avoid getting stuck\n"
     ]
    },
    {
     "data": {
      "image/png": "[encoded data removed]",
      "text/plain": [
       "<Figure size 648x648 with 9 Axes>"
      ]
     },
     "metadata": {
      "needs_background": "light"
     },
     "output_type": "display_data"
    }
   ],
   "source": [
    "#wanted to try using the DataBlock, as well - oh, this is cool\n",
    "nums_db = DataBlock(blocks = (ImageBlock, CategoryBlock), get_items=get_image_files, splitter=RandomSplitter(seed=42), get_y=parent_label)\n",
    "dls = nums_db.dataloaders(path/'training')\n",
    "dls.show_batch()"
   ]
  },
  {
   "cell_type": "code",
   "execution_count": 15,
   "metadata": {},
   "outputs": [],
   "source": [
    "#define loss function -use the CrossEntropyLoss function to calculate the loss from the predictions and actual values\n",
    "def mnist_loss(pred, actual):\n",
    "    loss = nn.CrossEntropyLoss()\n",
    "    return loss(pred, actual.squeeze())\n",
    "    \n"
   ]
  },
  {
   "cell_type": "code",
   "execution_count": 16,
   "metadata": {},
   "outputs": [],
   "source": [
    "#calculate the gradient, by first calculating the predictions from the model, calculating the loss\n",
    "def calc_grad(xb,yb,model):\n",
    "    #get predictions from model\n",
    "    pred = model(xb)\n",
    "    #calculat loss from predictions and actual values\n",
    "    loss = mnist_loss(pred, yb)\n",
    "    #calculate the gradient\n",
    "    loss.backward()\n",
    "    return loss"
   ]
  },
  {
   "cell_type": "code",
   "execution_count": 17,
   "metadata": {},
   "outputs": [],
   "source": [
    "#calculate batch accuracy\n",
    "def batch_accuracy(pred, actual):\n",
    "    #this took a sec to work out, get the maximum predicted category value, the index of that is the predicted digit\n",
    "    digit_pred = pred.max(dim=1)[1]\n",
    "    return (digit_pred == actual.squeeze()).float().mean()"
   ]
  },
  {
   "cell_type": "code",
   "execution_count": 18,
   "metadata": {},
   "outputs": [],
   "source": [
    "# driver for one training epoch\n",
    "def train_epoch(model, optimizer):\n",
    "    batch_loss = []\n",
    "    #iterate through image/label pairs in data set\n",
    "    for xb, yb in train_dl:\n",
    "        #get the prediction from the model, calc the loss, get the gradient\n",
    "        batch_loss.append(calc_grad(xb, yb, model))\n",
    "        #update the weights\n",
    "        optimizer.step()\n",
    "        #zero the gradients\n",
    "        optimizer.zero_grad()\n",
    "    return tensor(batch_loss).mean() "
   ]
  },
  {
   "cell_type": "code",
   "execution_count": 19,
   "metadata": {},
   "outputs": [],
   "source": [
    "class BasicOptim:\n",
    "    #link class to model parameters and learning rate\n",
    "    def __init__(self, params, lr): \n",
    "        self.params, self.lr = list(params), lr\n",
    "    \n",
    "    #update weights based on gradient and learning rate\n",
    "    def step(self):\n",
    "        for p in self.params:\n",
    "            p.data -= p.grad.data * self.lr\n",
    "\n",
    "    #reset gradient        \n",
    "    def zero_grad(self):\n",
    "        for p in self.params:\n",
    "            p.grad = None"
   ]
  },
  {
   "cell_type": "code",
   "execution_count": 20,
   "metadata": {},
   "outputs": [],
   "source": [
    "#basic network with 4 linear layers interspersed with 3 non-linearities\n",
    "#accept a 28 * 28 size image and output 10 categories\n",
    "simple_net = nn.Sequential(\n",
    "    nn.Linear(28 * 28, 100),\n",
    "    nn.ReLU(),\n",
    "    nn.Linear(100, 100),\n",
    "    nn.ReLU(),\n",
    "    nn.Linear(100, 30),\n",
    "    nn.ReLU(),\n",
    "    nn.Linear(30, 10)\n",
    ").cuda()\n"
   ]
  },
  {
   "cell_type": "code",
   "execution_count": 21,
   "metadata": {},
   "outputs": [
    {
     "data": {
      "text/plain": [
       "tensor(0.1114, device='cuda:0')"
      ]
     },
     "execution_count": 21,
     "metadata": {},
     "output_type": "execute_result"
    }
   ],
   "source": [
    "#thats some poop starting accuracy (0.1114) close to random chance\n",
    "batch_accuracy(simple_net(test_items), test_labels)"
   ]
  },
  {
   "cell_type": "code",
   "execution_count": 132,
   "metadata": {},
   "outputs": [],
   "source": [
    "opt = BasicOptim(simple_net.parameters(), lr=0.1)"
   ]
  },
  {
   "cell_type": "code",
   "execution_count": 134,
   "metadata": {},
   "outputs": [],
   "source": [
    "def train_model(model, epochs, opt):\n",
    "    for i in range(epochs):\n",
    "        avg_batch_loss = train_epoch(model, opt)\n",
    "        print(i, avg_batch_loss.item(), batch_accuracy(simple_net(test_items), test_labels).item())"
   ]
  },
  {
   "cell_type": "code",
   "execution_count": 142,
   "metadata": {},
   "outputs": [
    {
     "name": "stdout",
     "output_type": "stream",
     "text": [
      "0 7.386626384686679e-05 0.9738999605178833\n",
      "1 7.320328586502001e-05 0.9738999605178833\n",
      "2 7.263103179866448e-05 0.9738999605178833\n",
      "3 7.195913349278271e-05 0.9738999605178833\n",
      "4 7.141413516364992e-05 0.9738999605178833\n",
      "5 7.077083137119189e-05 0.9738999605178833\n",
      "6 7.019354961812496e-05 0.9738999605178833\n",
      "7 6.960259634070098e-05 0.9738999605178833\n",
      "8 6.901309825479984e-05 0.9738999605178833\n",
      "9 6.847656186437234e-05 0.9738999605178833\n",
      "10 6.787434540456161e-05 0.9738999605178833\n",
      "11 6.72946116537787e-05 0.9738999605178833\n",
      "12 6.675018084933981e-05 0.9738999605178833\n",
      "13 6.619741907343268e-05 0.9738999605178833\n",
      "14 6.566127558471635e-05 0.973800003528595\n",
      "15 6.511038372991607e-05 0.973800003528595\n",
      "16 6.461504381150007e-05 0.973800003528595\n",
      "17 6.404705345630646e-05 0.973800003528595\n",
      "18 6.354360084515065e-05 0.973800003528595\n",
      "19 6.304714042926207e-05 0.973800003528595\n",
      "20 6.249182479223236e-05 0.973800003528595\n",
      "21 6.204166129464284e-05 0.973800003528595\n",
      "22 6.151999696157873e-05 0.973800003528595\n",
      "23 6.1016973631922156e-05 0.9736999869346619\n",
      "24 6.054293044144288e-05 0.9736999869346619\n",
      "25 6.005805335007608e-05 0.9736999869346619\n",
      "26 5.959275586064905e-05 0.9736999869346619\n",
      "27 5.910374238737859e-05 0.9736999869346619\n",
      "28 5.8700567024061456e-05 0.9736999869346619\n",
      "29 5.820246224175207e-05 0.9736999869346619\n",
      "30 5.777037949883379e-05 0.9736999869346619\n",
      "31 5.730431803385727e-05 0.9736999869346619\n",
      "32 5.690600664820522e-05 0.9736999869346619\n",
      "33 5.6459266488673165e-05 0.9736999869346619\n",
      "34 5.6022337957983837e-05 0.9736999869346619\n",
      "35 5.562636943068355e-05 0.9735999703407288\n",
      "36 5.5218948546098545e-05 0.9735999703407288\n",
      "37 5.478889943333343e-05 0.9734999537467957\n",
      "38 5.439576125354506e-05 0.9735999703407288\n",
      "39 5.401330054155551e-05 0.9735999703407288\n",
      "40 5.357472036848776e-05 0.9735999703407288\n",
      "41 5.324056473909877e-05 0.9735999703407288\n",
      "42 5.280526602291502e-05 0.9735999703407288\n",
      "43 5.247782246442512e-05 0.9735999703407288\n",
      "44 5.204524131841026e-05 0.9735999703407288\n",
      "45 5.174220495973714e-05 0.9735999703407288\n",
      "46 5.1333674491615966e-05 0.9735999703407288\n",
      "47 5.100980706629343e-05 0.9734999537467957\n",
      "48 5.0645267037907615e-05 0.9734999537467957\n",
      "49 5.026475264457986e-05 0.9734999537467957\n",
      "50 4.9958885938394815e-05 0.9734999537467957\n",
      "51 4.961257582181133e-05 0.9734999537467957\n",
      "52 4.924540189676918e-05 0.9734999537467957\n",
      "53 4.895767051493749e-05 0.9734999537467957\n",
      "54 4.859190812567249e-05 0.9735999703407288\n",
      "55 4.82984833070077e-05 0.9735999703407288\n",
      "56 4.7983838157961145e-05 0.9735999703407288\n",
      "57 4.763796823681332e-05 0.9735999703407288\n",
      "58 4.7358123993035406e-05 0.9735999703407288\n",
      "59 4.703150625573471e-05 0.9735999703407288\n",
      "60 4.677056131185964e-05 0.9735999703407288\n",
      "61 4.64540280518122e-05 0.9735999703407288\n",
      "62 4.614747376763262e-05 0.9735999703407288\n",
      "63 4.590021853800863e-05 0.9735999703407288\n",
      "64 4.558196087600663e-05 0.9735999703407288\n",
      "65 4.5327898988034576e-05 0.9734999537467957\n",
      "66 4.5028784370515496e-05 0.9733999967575073\n",
      "67 4.477759648580104e-05 0.9733999967575073\n",
      "68 4.449225889402442e-05 0.9733999967575073\n",
      "69 4.425521183293313e-05 0.9733999967575073\n",
      "70 4.3956250010523945e-05 0.9733999967575073\n",
      "71 4.368196823634207e-05 0.9733999967575073\n",
      "72 4.3464333430165425e-05 0.9733999967575073\n",
      "73 4.318447827245109e-05 0.9733999967575073\n",
      "74 4.2905394366243854e-05 0.9732999801635742\n",
      "75 4.270713543519378e-05 0.9732999801635742\n",
      "76 4.240967609803192e-05 0.9732999801635742\n",
      "77 4.2204825149383396e-05 0.9732999801635742\n",
      "78 4.1956271161325276e-05 0.9732999801635742\n",
      "79 4.171270484221168e-05 0.9732999801635742\n",
      "80 4.1483806853648275e-05 0.9732999801635742\n",
      "81 4.124525730730966e-05 0.9732999801635742\n",
      "82 4.102898674318567e-05 0.9732999801635742\n",
      "83 4.076860204804689e-05 0.9732999801635742\n",
      "84 4.058010017615743e-05 0.9733999967575073\n",
      "85 4.033428922411986e-05 0.9733999967575073\n",
      "86 4.01394790969789e-05 0.9733999967575073\n",
      "87 3.9919330447446555e-05 0.9733999967575073\n",
      "88 3.969679892179556e-05 0.9733999967575073\n",
      "89 3.951321559725329e-05 0.9733999967575073\n",
      "90 3.9269951230380684e-05 0.9733999967575073\n",
      "91 3.9081525756046176e-05 0.9733999967575073\n",
      "92 3.885729529429227e-05 0.9733999967575073\n",
      "93 3.865275357384235e-05 0.9733999967575073\n",
      "94 3.845233368338086e-05 0.9733999967575073\n",
      "95 3.825598832918331e-05 0.9734999537467957\n",
      "96 3.8077203498687595e-05 0.9734999537467957\n",
      "97 3.787539026234299e-05 0.9734999537467957\n",
      "98 3.765541623579338e-05 0.9734999537467957\n",
      "99 3.751114127226174e-05 0.9734999537467957\n",
      "Wall time: 38.5 s\n"
     ]
    }
   ],
   "source": [
    "%%time\n",
    "train_model(simple_net, 100, opt)"
   ]
  },
  {
   "cell_type": "code",
   "execution_count": 143,
   "metadata": {},
   "outputs": [],
   "source": [
    "#save my trained model\n",
    "torch.save(simple_net.state_dict(), \"mnist_full_weights.pth\")"
   ]
  },
  {
   "cell_type": "code",
   "execution_count": 22,
   "metadata": {},
   "outputs": [
    {
     "data": {
      "text/plain": [
       "<All keys matched successfully>"
      ]
     },
     "execution_count": 22,
     "metadata": {},
     "output_type": "execute_result"
    }
   ],
   "source": [
    "#load the saved model\n",
    "simple_net.load_state_dict(torch.load(\"mnist_full_weights.pth\"))"
   ]
  },
  {
   "cell_type": "code",
   "execution_count": 23,
   "metadata": {},
   "outputs": [
    {
     "data": {
      "text/plain": [
       "tensor(0.9735, device='cuda:0')"
      ]
     },
     "execution_count": 23,
     "metadata": {},
     "output_type": "execute_result"
    }
   ],
   "source": [
    "#test final accuracy\n",
    "batch_accuracy(simple_net(test_items), test_labels)"
   ]
  }
 ],
 "metadata": {
  "interpreter": {
   "hash": "a0bb9f38b72d2b8c0e0537b296d207836760276085e51cc083105ecf26ba0b89"
  },
  "kernelspec": {
   "display_name": "Python 3.9.6 64-bit",
   "name": "python3"
  },
  "language_info": {
   "codemirror_mode": {
    "name": "ipython",
    "version": 3
   },
   "file_extension": ".py",
   "mimetype": "text/x-python",
   "name": "python",
   "nbconvert_exporter": "python",
   "pygments_lexer": "ipython3",
   "version": "3.9.6"
  },
  "orig_nbformat": 4
 },
 "nbformat": 4,
 "nbformat_minor": 2
}
